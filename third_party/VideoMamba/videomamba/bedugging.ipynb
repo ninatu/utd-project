{
 "cells": [
  {
   "cell_type": "code",
   "execution_count": null,
   "id": "8a468294-692b-4943-b57d-1e698a6798ca",
   "metadata": {},
   "outputs": [],
   "source": []
  },
  {
   "cell_type": "code",
   "execution_count": 11,
   "id": "97792465-8aae-4090-bbd1-d2d515feadd1",
   "metadata": {},
   "outputs": [],
   "source": [
    "# import sys\n",
    "# sys.path.append('../causal_conv1d/')\n",
    "# sys.path.append('../mamba/')"
   ]
  },
  {
   "cell_type": "code",
   "execution_count": 12,
   "id": "1ad64722-c8a3-4e0d-b3e3-cdc8023486a1",
   "metadata": {},
   "outputs": [],
   "source": [
    "from video_mm.models.backbones.videomamba import build_videomamba"
   ]
  },
  {
   "cell_type": "code",
   "execution_count": 22,
   "id": "6bf46040-72d7-4acd-aeba-dbc5df5529a1",
   "metadata": {},
   "outputs": [],
   "source": [
    "model_config = dict(\n",
    "    model_cls=\"UMT_VIDEOMAMBA\",\n",
    "    vision_encoder=dict(\n",
    "        # backbone\n",
    "        name=\"videomamba_middle\",\n",
    "        img_size=224, \n",
    "        patch_size=16, \n",
    "        depth=32, \n",
    "        embed_dim=576, \n",
    "        drop_path_rate=0.25,\n",
    "        ssm_cfg=None, \n",
    "        norm_epsilon=1e-5, \n",
    "        fused_add_norm=True,\n",
    "        rms_norm=True, \n",
    "        residual_in_fp32=True,\n",
    "        bimamba_type=\"v2\",\n",
    "        pool_type=\"cls+avg\",\n",
    "        kernel_size=1,\n",
    "        num_frames=8,\n",
    "        ckpt_num_frame=8,\n",
    "        use_checkpoint=False,\n",
    "        checkpoint_num=0,\n",
    "        clip_decoder_embed_dim=576,\n",
    "        clip_output_dim=512,\n",
    "        clip_norm_type='l2',\n",
    "        clip_return_layer=1,\n",
    "        clip_student_return_interval=1,\n",
    "        pretrained=None, #\"../../biases/pretrained/videomamba/videomamba_m16_25M_f8_res224.pth\",\n",
    "        # clip teacher\n",
    "        clip_teacher=\"none\",\n",
    "        clip_img_size=224,\n",
    "        clip_return_interval=1,\n",
    "        # mask\n",
    "        video_mask_type=\"none\",\n",
    "        video_mask_ratio=0.,\n",
    "        video_double_mask_ratio=0.,\n",
    "        image_mask_type=\"none\",\n",
    "        image_mask_ratio=0.,\n",
    "        image_double_mask_ratio=0.,\n",
    "        # for ret\n",
    "        keep_temporal=True,\n",
    "    ),\n",
    "    text_encoder=\"${TextEncoders[${text_enc}]}\",\n",
    "    multimodal=dict(enable=True),\n",
    "    embed_dim=512,\n",
    "    temp=0.07,\n",
    ")\n",
    "\n",
    "from argparse import Namespace\n",
    "# model_config = Namespace(**model_config)\n",
    "\n",
    "import json\n",
    "\n",
    "# https://stackoverflow.com/questions/66208077/how-to-convert-a-nested-python-dictionary-into-a-simple-namespace\n",
    "class _DotDict(dict):\n",
    "    __getattr__ = dict.__getitem__\n",
    "    __setattr__ = dict.__setitem__\n",
    "    __delattr__ = dict.__delitem__\n",
    "\n",
    "\n",
    "def dot(data=None):\n",
    "    if data is []:\n",
    "        return []\n",
    "    return json.loads(json.dumps(data), object_hook=_DotDict) if data else _DotDict()\n",
    "\n",
    "model_config = dot(model_config)"
   ]
  },
  {
   "cell_type": "code",
   "execution_count": 41,
   "id": "4989ad1b-7d56-4f8e-967e-f6584c0391d6",
   "metadata": {},
   "outputs": [],
   "source": [
    "model = build_videomamba(model_config, add_pool_norm=False)\n",
    "\n",
    "    # if \"bert\" in config.model.text_encoder.name:\n",
    "    #     tokenizer = BertTokenizer.from_pretrained(config.model.text_encoder.pretrained, local_files_only=True)\n",
    "    # else:\n",
    "    #     raise ValueError(f\"Not supported text encoder.\")\n",
    "\n",
    "    # model = model_cls(config=config, tokenizer=tokenizer, is_pretrain=pretrain)"
   ]
  },
  {
   "cell_type": "code",
   "execution_count": 45,
   "id": "0b254aa5-898a-4ade-b8a0-a38ab065cd0c",
   "metadata": {},
   "outputs": [
    {
     "data": {
      "text/plain": [
       "_IncompatibleKeys(missing_keys=[], unexpected_keys=['pool_norm.weight', 'pool_norm.bias'])"
      ]
     },
     "execution_count": 45,
     "metadata": {},
     "output_type": "execute_result"
    }
   ],
   "source": [
    "model.load_state_dict(new_checkpoint, strict=False)"
   ]
  },
  {
   "cell_type": "code",
   "execution_count": 28,
   "id": "be4e23aa-820e-4588-a80a-d93d72e9e429",
   "metadata": {},
   "outputs": [],
   "source": [
    "model.cuda()\n",
    "\n",
    "x = torch.zeros(8, 3, 8, 224, 224).cuda()\n",
    "y = model(x)"
   ]
  },
  {
   "cell_type": "code",
   "execution_count": 48,
   "id": "234914b3-9253-4315-b1c2-06b46a5c161c",
   "metadata": {},
   "outputs": [
    {
     "data": {
      "text/plain": [
       "tensor(0, device='cuda:0')"
      ]
     },
     "execution_count": 48,
     "metadata": {},
     "output_type": "execute_result"
    }
   ],
   "source": [
    "torch.isnan(y[0]).sum() #y[0].shape"
   ]
  },
  {
   "cell_type": "code",
   "execution_count": 47,
   "id": "7a6f2b5b-e1f3-44ac-beb8-e0975303989a",
   "metadata": {},
   "outputs": [
    {
     "data": {
      "text/plain": [
       "9.0"
      ]
     },
     "execution_count": 47,
     "metadata": {},
     "output_type": "execute_result"
    }
   ],
   "source": [
    "576 / (768 / 12)"
   ]
  },
  {
   "cell_type": "code",
   "execution_count": 43,
   "id": "ffd244d6-7f7d-4728-a7cb-e0851c0e3acf",
   "metadata": {},
   "outputs": [],
   "source": [
    "import torch \n",
    "\n",
    "checkpoint = torch.load('../../biases/pretrained/videomamba/videomamba_m16_25M_f8_res224.pth')\n",
    "# checkpoint = torch.load('../../biases/pretrained/videomamba/videomamba_m16_k400_mask_pt_f8_res224.pth')\n",
    "\n",
    "# checkpoint.keys()"
   ]
  },
  {
   "cell_type": "code",
   "execution_count": 44,
   "id": "3b8347fb-537a-4b60-9d04-ffb9145e2050",
   "metadata": {},
   "outputs": [],
   "source": [
    "new_checkpoint = {}\n",
    "for k, v in checkpoint.items():\n",
    "    if 'vision_encoder.' in k:\n",
    "        new_checkpoint[k[len('vision_encoder.'):]] = v\n",
    "\n",
    "# new_checkpoint.keys()"
   ]
  },
  {
   "cell_type": "code",
   "execution_count": 8,
   "id": "93104f3f-e112-43d4-ab1d-57839b885722",
   "metadata": {},
   "outputs": [
    {
     "data": {
      "text/plain": [
       "{'model_cls': 'UMT_VIDEOMAMBA',\n",
       " 'vision_encoder': {'name': 'videomamba_middle',\n",
       "  'img_size': 224,\n",
       "  'patch_size': 16,\n",
       "  'depth': 32,\n",
       "  'embed_dim': 576,\n",
       "  'drop_path_rate': 0.25,\n",
       "  'ssm_cfg': None,\n",
       "  'norm_epsilon': 1e-05,\n",
       "  'fused_add_norm': True,\n",
       "  'rms_norm': True,\n",
       "  'residual_in_fp32': True,\n",
       "  'bimamba_type': 'v2',\n",
       "  'pool_type': 'cls+avg',\n",
       "  'kernel_size': 1,\n",
       "  'num_frames': '${num_frames}',\n",
       "  'ckpt_num_frame': 8,\n",
       "  'use_checkpoint': False,\n",
       "  'checkpoint_num': 0,\n",
       "  'clip_decoder_embed_dim': 576,\n",
       "  'clip_output_dim': 512,\n",
       "  'clip_norm_type': 'l2',\n",
       "  'clip_return_layer': 1,\n",
       "  'clip_student_return_interval': 1,\n",
       "  'pretrained': 'your_model_path/videomamba_m16_k400_mask_pt_f8_res224.pth',\n",
       "  'clip_teacher': 'none',\n",
       "  'clip_img_size': 224,\n",
       "  'clip_return_interval': 1,\n",
       "  'video_mask_type': 'none',\n",
       "  'video_mask_ratio': 0.0,\n",
       "  'video_double_mask_ratio': 0.0,\n",
       "  'image_mask_type': 'none',\n",
       "  'image_mask_ratio': 0.0,\n",
       "  'image_double_mask_ratio': 0.0,\n",
       "  'keep_temporal': True},\n",
       " 'text_encoder': '${TextEncoders[${text_enc}]}',\n",
       " 'multimodal': {'enable': True},\n",
       " 'embed_dim': 512,\n",
       " 'temp': 0.07}"
      ]
     },
     "execution_count": 8,
     "metadata": {},
     "output_type": "execute_result"
    }
   ],
   "source": [
    "model_config"
   ]
  },
  {
   "cell_type": "code",
   "execution_count": null,
   "id": "76f656fa-af37-4487-b569-60dd9f8fddc6",
   "metadata": {},
   "outputs": [],
   "source": []
  }
 ],
 "metadata": {
  "kernelspec": {
   "display_name": "umt3",
   "language": "python",
   "name": "umt3"
  },
  "language_info": {
   "codemirror_mode": {
    "name": "ipython",
    "version": 3
   },
   "file_extension": ".py",
   "mimetype": "text/x-python",
   "name": "python",
   "nbconvert_exporter": "python",
   "pygments_lexer": "ipython3",
   "version": "3.9.18"
  }
 },
 "nbformat": 4,
 "nbformat_minor": 5
}
